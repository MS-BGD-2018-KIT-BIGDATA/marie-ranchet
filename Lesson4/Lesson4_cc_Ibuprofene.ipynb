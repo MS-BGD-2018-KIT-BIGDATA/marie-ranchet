{
 "cells": [
  {
   "cell_type": "code",
   "execution_count": 62,
   "metadata": {
    "collapsed": true
   },
   "outputs": [],
   "source": [
    "import requests\n",
    "from bs4 import BeautifulSoup\n",
    "import pandas as pd\n",
    "import numpy as np\n",
    "import re\n",
    "import json\n",
    "import numpy as np"
   ]
  },
  {
   "cell_type": "code",
   "execution_count": 63,
   "metadata": {
    "collapsed": true
   },
   "outputs": [],
   "source": [
    "def getSoupFromURL(url, method='get', data={}):\n",
    "\n",
    "    if method == 'get':\n",
    "        res = requests.get(url)\n",
    "    elif method == 'post':\n",
    "        res = requests.post(url, data=data)\n",
    "    else:\n",
    "        return -1\n",
    "\n",
    "    if res.status_code == 200:\n",
    "        soup = BeautifulSoup(res.text, 'html.parser')\n",
    "        return soup\n",
    "    else:\n",
    "        #print (res.status_code)\n",
    "        return -2"
   ]
  },
  {
   "cell_type": "code",
   "execution_count": 64,
   "metadata": {
    "collapsed": true
   },
   "outputs": [],
   "source": [
    "class Medicament:\n",
    "    def __init__(self, denomination, dosage, labo, poids, age, dateAMM, dateComm, prix, nbComprimes):\n",
    "        self.denomination = denomination\n",
    "        self.dosage = dosage\n",
    "        self.labo = labo\n",
    "        self.poids = poids\n",
    "        self.age = age\n",
    "        self.dateAMM = dateAMM\n",
    "        self.dateComm = dateComm\n",
    "        self.prix = prix\n",
    "        self.nbComprimes = nbComprimes\n",
    "    \n",
    "    def to_dict(self):\n",
    "        return {\n",
    "            'denomination': self.denomination,\n",
    "            'dosage': self.dosage,\n",
    "            'labo': self.labo, \n",
    "            'poids': self.poids,\n",
    "            'age': self.age,\n",
    "            'dateAMM': self.dateAMM,\n",
    "            'dateComm': self.dateComm, \n",
    "            'prix': self.prix,\n",
    "            'nbComprimes': self.nbComprimes\n",
    "        }"
   ]
  },
  {
   "cell_type": "code",
   "execution_count": 65,
   "metadata": {},
   "outputs": [],
   "source": [
    "def getAge(str):\n",
    "    regex = re.compile(r'(\\d+) ans')\n",
    "    return np.squeeze(regex.findall(str))\n",
    "\n",
    "def getPoids(str):\n",
    "    regex = re.compile(r'(\\d+) [kK][gG]')\n",
    "    return np.squeeze(regex.findall(str))\n",
    "\n",
    "def getDosage(str):\n",
    "    regex = re.compile(r'(\\d+) [mM][gG]')\n",
    "    return np.squeeze(regex.findall(str))\n",
    "\n",
    "def getNbComprimes(str):\n",
    "    regex = re.compile(r'(\\d+)\\s+comprimé')\n",
    "    return np.squeeze(regex.findall(str))\n",
    "\n",
    "def getMedicamentsList(url):\n",
    "    \n",
    "    soup = getSoupFromURL(url)\n",
    "    \n",
    "    if soup:\n",
    "\n",
    "        data = json.loads(soup.text)\n",
    "        list = []\n",
    "        for i in range(0, len(data)):\n",
    "            \n",
    "            medicament = Medicament(0, 0, 0, 0, 0, 0, 0, 0, 0)\n",
    "            \n",
    "            url2 = \"https://open-medicaments.fr/api/v1/medicaments/\"+str(data[i]['codeCIS'])\n",
    "            soup2 = getSoupFromURL(url2)\n",
    "            if soup2:\n",
    "\n",
    "                data2 = json.loads(soup2.text)\n",
    "                response = json.dumps(data2, sort_keys = True, indent = 4, separators = (',', ': '))\n",
    "\n",
    "                medicament.denomination = data2['denomination']\n",
    "                medicament.dosage = getDosage(data2['denomination'])\n",
    "                medicament.labo = np.squeeze(data2['titulaires'])\n",
    "                medicament.poids = getPoids(data2['indicationsTherapeutiques'])\n",
    "                medicament.age = getAge(data2['indicationsTherapeutiques'])\n",
    "                medicament.dateAMM = data2['dateAMM']\n",
    "                medicament.dateComm = data2[\"presentations\"][0][\"dateDeclarationCommercialisation\"]\n",
    "                medicament.nbComprimes = getNbComprimes(data2[\"presentations\"][0][\"libelle\"])\n",
    "                medicament.prix = data2[\"presentations\"][0][\"prix\"]\n",
    "\n",
    "                list.append(medicament)\n",
    "                \n",
    "        return list\n",
    "\n",
    "    else:\n",
    "        return None"
   ]
  },
  {
   "cell_type": "code",
   "execution_count": 66,
   "metadata": {},
   "outputs": [],
   "source": [
    "# Main\n",
    "url = \"https://open-medicaments.fr/api/v1/medicaments?query=ibuprofene\"\n",
    "\n",
    "list = getMedicamentsList(url)\n",
    "\n",
    "if len(list) > 0:\n",
    "    df = pd.DataFrame()\n",
    "    df = df.append(pd.DataFrame.from_records([s.to_dict() for s in list]))\n",
    "\n",
    "    df.to_csv(r'ibuprofene.csv', header=[\"Denomination\", \"Dosage\", \"Laboratoire\", \n",
    "                                         \"Poids Mini\",\n",
    "                                         \"Age Mini\", \"Date AMM\", \"Date Comm\", \"Nb Comprimés\", \"Prix\"], \n",
    "          index=None, sep=',', mode='a')"
   ]
  },
  {
   "cell_type": "code",
   "execution_count": null,
   "metadata": {
    "collapsed": true
   },
   "outputs": [],
   "source": []
  },
  {
   "cell_type": "code",
   "execution_count": null,
   "metadata": {
    "collapsed": true
   },
   "outputs": [],
   "source": []
  }
 ],
 "metadata": {
  "kernelspec": {
   "display_name": "Python 3",
   "language": "python",
   "name": "python3"
  },
  "language_info": {
   "codemirror_mode": {
    "name": "ipython",
    "version": 3
   },
   "file_extension": ".py",
   "mimetype": "text/x-python",
   "name": "python",
   "nbconvert_exporter": "python",
   "pygments_lexer": "ipython3",
   "version": "3.6.2"
  }
 },
 "nbformat": 4,
 "nbformat_minor": 2
}
